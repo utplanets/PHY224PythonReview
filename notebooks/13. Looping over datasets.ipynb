{
 "cells": [
  {
   "cell_type": "markdown",
   "metadata": {},
   "source": [
    "## Use a `for` loop to process files given a list of their names.\n",
    "* A filename is just a character string.\n",
    "* And lists can contain character strings.\n"
   ]
  },
  {
   "cell_type": "code",
   "execution_count": 2,
   "metadata": {},
   "outputs": [
    {
     "name": "stdout",
     "output_type": "stream",
     "text": [
      "data/galileo_flat.csv 800.0 1000.0\n",
      "data/galileo_ramp.csv 253.0 1000.0\n"
     ]
    }
   ],
   "source": [
    "import numpy\n",
    "for filename in [\"data/galileo_flat.csv\",\"data/galileo_ramp.csv\"]:\n",
    "    distance, height = numpy.loadtxt(filename, skiprows=2,\\\n",
    "                                     comments=\"#\", delimiter=',', unpack=True)\n",
    "    print(filename, distance.min(), height.max())"
   ]
  },
  {
   "cell_type": "markdown",
   "metadata": {},
   "source": [
    "## Use `glob.glob` to find sets of files whose names match a pattern.\n",
    "*   In Unix, the term \"globbing\" means \"matching a set of files with a pattern\".\n",
    "*   The most common patterns are:\n",
    "    *   `*` meaning \"match zero or more characters\"\n",
    "    *   `?` meaning \"match exactly one character\"\n",
    "*   Python contains the `glob` library to provide pattern matching functionality\n",
    "*   The `glob` library contains a function also called `glob` to match file patterns\n",
    "*   E.g., `glob.glob('*.txt')` matches all files in the current directory \n",
    "    whose names end with `.txt`.\n",
    "*   Result is a (possibly empty) list of character strings.\n"
   ]
  },
  {
   "cell_type": "code",
   "execution_count": 3,
   "metadata": {},
   "outputs": [
    {
     "name": "stdout",
     "output_type": "stream",
     "text": [
      "all csv files in data/random directory: ['data/random/data.000.csv', 'data/random/data.001.csv', 'data/random/data.002.csv', 'data/random/data.003.csv', 'data/random/data.004.csv', 'data/random/data.005.csv', 'data/random/data.006.csv', 'data/random/data.007.csv', 'data/random/data.008.csv', 'data/random/data.009.csv', 'data/random/data.010.csv', 'data/random/data.011.csv', 'data/random/data.012.csv', 'data/random/data.013.csv', 'data/random/data.014.csv', 'data/random/data.015.csv', 'data/random/data.016.csv', 'data/random/data.017.csv', 'data/random/data.018.csv', 'data/random/data.019.csv', 'data/random/data.020.csv', 'data/random/data.021.csv', 'data/random/data.022.csv', 'data/random/data.023.csv', 'data/random/data.024.csv', 'data/random/data.025.csv', 'data/random/data.026.csv', 'data/random/data.027.csv', 'data/random/data.028.csv', 'data/random/data.029.csv', 'data/random/data.030.csv', 'data/random/data.031.csv', 'data/random/data.032.csv', 'data/random/data.033.csv', 'data/random/data.034.csv', 'data/random/data.035.csv', 'data/random/data.036.csv', 'data/random/data.037.csv', 'data/random/data.038.csv', 'data/random/data.039.csv', 'data/random/data.040.csv', 'data/random/data.041.csv', 'data/random/data.042.csv', 'data/random/data.043.csv', 'data/random/data.044.csv', 'data/random/data.045.csv', 'data/random/data.046.csv', 'data/random/data.047.csv', 'data/random/data.048.csv', 'data/random/data.049.csv', 'data/random/data.050.csv', 'data/random/data.051.csv', 'data/random/data.052.csv', 'data/random/data.053.csv', 'data/random/data.054.csv', 'data/random/data.055.csv', 'data/random/data.056.csv', 'data/random/data.057.csv', 'data/random/data.058.csv', 'data/random/data.059.csv', 'data/random/data.060.csv', 'data/random/data.061.csv', 'data/random/data.062.csv', 'data/random/data.063.csv', 'data/random/data.064.csv', 'data/random/data.065.csv', 'data/random/data.066.csv', 'data/random/data.067.csv', 'data/random/data.068.csv', 'data/random/data.069.csv', 'data/random/data.070.csv', 'data/random/data.071.csv', 'data/random/data.072.csv', 'data/random/data.073.csv', 'data/random/data.074.csv', 'data/random/data.075.csv', 'data/random/data.076.csv', 'data/random/data.077.csv', 'data/random/data.078.csv', 'data/random/data.079.csv', 'data/random/data.080.csv', 'data/random/data.081.csv', 'data/random/data.082.csv', 'data/random/data.083.csv', 'data/random/data.084.csv', 'data/random/data.085.csv', 'data/random/data.086.csv', 'data/random/data.087.csv', 'data/random/data.088.csv', 'data/random/data.089.csv', 'data/random/data.090.csv', 'data/random/data.091.csv', 'data/random/data.092.csv', 'data/random/data.093.csv', 'data/random/data.094.csv', 'data/random/data.095.csv', 'data/random/data.096.csv', 'data/random/data.097.csv', 'data/random/data.098.csv', 'data/random/data.099.csv']\n"
     ]
    }
   ],
   "source": [
    "import glob\n",
    "print(\"all csv files in data/random directory:\", glob.glob(\"data/random/*.csv\"))"
   ]
  },
  {
   "cell_type": "code",
   "execution_count": 4,
   "metadata": {},
   "outputs": [
    {
     "name": "stdout",
     "output_type": "stream",
     "text": [
      "all txt files in data/random directory: []\n"
     ]
    }
   ],
   "source": [
    "print(\"all txt files in data/random directory:\", glob.glob(\"data/random/*.txt\"))"
   ]
  },
  {
   "cell_type": "markdown",
   "metadata": {},
   "source": [
    "## Use `glob` and `for` to process batches of files.\n",
    "Helps a lot if the files are named and stored systematically and consistently so that simple patterns will find the right data.\n"
   ]
  },
  {
   "cell_type": "code",
   "execution_count": 8,
   "metadata": {},
   "outputs": [
    {
     "name": "stdout",
     "output_type": "stream",
     "text": [
      "data/random/data.000.csv 0.9942210408163266 13.837415178975624\n",
      "data/random/data.001.csv -4.4912683673469385 17.90075617470209\n",
      "data/random/data.002.csv -2.3215710204081637 13.757558606847574\n",
      "data/random/data.003.csv -2.329016067346939 18.314343249704457\n",
      "data/random/data.004.csv 1.3553763632653058 13.010406159249946\n",
      "data/random/data.005.csv -7.585724000000001 17.37826891708263\n",
      "data/random/data.006.csv -1.8240799408163266 18.23188542777823\n",
      "data/random/data.007.csv 4.806963253061224 9.703555565802954\n",
      "data/random/data.008.csv -5.133485065306123 12.015506443770644\n",
      "data/random/data.009.csv -0.09478776326530612 17.19873309614367\n",
      "data/random/data.010.csv -8.8704838 20.566883456035132\n",
      "data/random/data.011.csv 0.04411288163265307 14.738835336862147\n",
      "data/random/data.012.csv -5.277715102040816 14.16650434195204\n",
      "data/random/data.013.csv -0.48077367346938776 10.175969888525362\n",
      "data/random/data.014.csv 4.315931830612246 20.392617536516656\n",
      "data/random/data.015.csv -1.1342148836734693 14.565470712348427\n",
      "data/random/data.016.csv 1.3851071755102042 21.950267390897135\n",
      "data/random/data.017.csv -1.3090353265306123 11.363146566068211\n",
      "data/random/data.018.csv -0.9504304267346939 20.022812257012735\n",
      "data/random/data.019.csv 0.6663312775510203 18.55596659853381\n",
      "data/random/data.020.csv 0.7807957959183673 13.078442121503086\n",
      "data/random/data.021.csv 0.05330728367346941 12.110640247220248\n",
      "data/random/data.022.csv -1.025134106122449 17.073115566092884\n",
      "data/random/data.023.csv 1.9672415938775514 8.840512489801107\n",
      "data/random/data.024.csv 5.609089979591836 15.049033048686432\n",
      "data/random/data.025.csv 1.4446584489795915 9.115744899229112\n",
      "data/random/data.026.csv -3.427281602040816 14.942789004982316\n",
      "data/random/data.027.csv 5.475924571428571 11.62762521448609\n",
      "data/random/data.028.csv -8.341422667346938 16.11507317510506\n",
      "data/random/data.029.csv 2.5752444285714287 15.144917274312167\n",
      "data/random/data.030.csv -1.3354672244897958 19.193804057660742\n",
      "data/random/data.031.csv -3.967621306122449 13.06318799727216\n",
      "data/random/data.032.csv 4.075240734693878 19.32081166307843\n",
      "data/random/data.033.csv -5.87572118367347 17.949151732211284\n",
      "data/random/data.034.csv 1.426698163265306 15.694742575448798\n",
      "data/random/data.035.csv -3.4642458367346936 14.827149574832381\n",
      "data/random/data.036.csv -4.100275857142857 11.461593655595983\n",
      "data/random/data.037.csv -5.97254612244898 15.882082537256474\n",
      "data/random/data.038.csv 1.3395591163265306 12.703053447379059\n",
      "data/random/data.039.csv -2.062378857142857 19.201859443266876\n",
      "data/random/data.040.csv -1.0058658675510204 10.729581649892703\n",
      "data/random/data.041.csv 3.064215897959184 12.410131249602909\n",
      "data/random/data.042.csv 4.781861089795918 19.207797033229422\n",
      "data/random/data.043.csv 0.9614722836734695 17.929315805106423\n",
      "data/random/data.044.csv -5.754948714285715 15.698024537369845\n",
      "data/random/data.045.csv 4.32934512244898 13.284187345731151\n",
      "data/random/data.046.csv -3.2820418318367346 8.098146400142213\n",
      "data/random/data.047.csv -2.401135989795918 16.6456106111139\n",
      "data/random/data.048.csv -2.903944702244898 11.77232103461476\n",
      "data/random/data.049.csv 2.602878659183674 17.697237344453892\n",
      "data/random/data.050.csv 5.194314918367347 14.04693915751113\n",
      "data/random/data.051.csv -3.0507573985714282 20.969784260277326\n",
      "data/random/data.052.csv 1.9830577938775513 11.388754252272596\n",
      "data/random/data.053.csv -2.2531574687755103 18.480066769248143\n",
      "data/random/data.054.csv 6.643867310204082 12.835680545517075\n",
      "data/random/data.055.csv 6.421093857142857 14.760623425899169\n",
      "data/random/data.056.csv -5.224165 18.194150290522998\n",
      "data/random/data.057.csv -0.5855811571428571 12.445018200930072\n",
      "data/random/data.058.csv 0.6141218571428573 19.728427436447436\n",
      "data/random/data.059.csv -2.723941693877551 18.93482356769603\n",
      "data/random/data.060.csv 1.0089063836734693 9.164194809256475\n",
      "data/random/data.061.csv -3.953352285714286 11.602405997270248\n",
      "data/random/data.062.csv 3.402808183673469 17.811000386938783\n",
      "data/random/data.063.csv -6.210846936734694 16.85956291603784\n",
      "data/random/data.064.csv -0.17550838775510197 10.497926475755808\n",
      "data/random/data.065.csv -5.321887 10.658547345815439\n",
      "data/random/data.066.csv 3.2529626673469387 17.157335574966382\n",
      "data/random/data.067.csv -6.238950102040818 10.879893520501088\n",
      "data/random/data.068.csv -1.8823642200000001 17.801901886974864\n",
      "data/random/data.069.csv -6.406514632653061 13.06532631533016\n",
      "data/random/data.070.csv 4.28319718367347 14.21526812089366\n",
      "data/random/data.071.csv -5.193470312244897 15.292185262960123\n",
      "data/random/data.072.csv 0.42396999244897965 13.075654968756345\n",
      "data/random/data.073.csv -5.129562653061225 14.285435512435196\n",
      "data/random/data.074.csv 4.422645901571429 22.81646222560978\n",
      "data/random/data.075.csv 3.531715099999999 12.278853751866736\n",
      "data/random/data.076.csv -3.7950071836734693 19.614086704392957\n",
      "data/random/data.077.csv -2.063087348979592 20.526741180756066\n",
      "data/random/data.078.csv 3.330696489795918 8.494048431442446\n",
      "data/random/data.079.csv 3.007074981632653 15.64709695414334\n",
      "data/random/data.080.csv 3.2845436122448977 12.707636165596258\n",
      "data/random/data.081.csv -10.17507918367347 10.353807237815746\n",
      "data/random/data.082.csv -1.4419003408163265 18.1500911628865\n",
      "data/random/data.083.csv 0.6996822426530612 9.837474301389067\n",
      "data/random/data.084.csv 1.4849843265306122 16.33809645256739\n",
      "data/random/data.085.csv -3.6624756285714284 13.602787137276636\n",
      "data/random/data.086.csv -1.1957442224489796 13.289702258168692\n",
      "data/random/data.087.csv -3.004343816326531 13.744437080663069\n",
      "data/random/data.088.csv -6.901978020408163 18.386157763357176\n",
      "data/random/data.089.csv 8.753342530612244 16.92900654225098\n",
      "data/random/data.090.csv -2.490223040816326 13.16443334508743\n",
      "data/random/data.091.csv -0.26577217959183674 14.727048305991156\n",
      "data/random/data.092.csv 1.0067842040816324 14.83667109596533\n",
      "data/random/data.093.csv -8.532018689795919 14.50114479480094\n",
      "data/random/data.094.csv -1.8738833367346943 16.614425354365984\n",
      "data/random/data.095.csv 0.6038108612244898 15.381157243152892\n",
      "data/random/data.096.csv 0.7704163408163265 16.26626563047028\n",
      "data/random/data.097.csv 0.5226561632653061 14.985266389459461\n",
      "data/random/data.098.csv 1.8710881224489795 11.05251144044252\n",
      "data/random/data.099.csv -3.8531033224489795 13.882629187160706\n"
     ]
    }
   ],
   "source": [
    "for filename in sorted(glob.glob('data/random/*.csv')):\n",
    "    distance, height = numpy.loadtxt(filename, skiprows=2,\\\n",
    "                                     comments=\"#\", delimiter=',', unpack=True)\n",
    "    print(filename, distance.mean(), height.std())"
   ]
  },
  {
   "cell_type": "markdown",
   "metadata": {},
   "source": [
    "## keypoints:\n",
    "* Use a `for` loop to process files given a list of their names.\n",
    "* Use `glob.glob` to find sets of files whose names match a pattern.\n",
    "* Use `glob` and `for` to process batches of files."
   ]
  }
 ],
 "metadata": {
  "kernelspec": {
   "display_name": "Environment (conda_anaconda3)",
   "language": "python",
   "name": "conda_anaconda3"
  },
  "language_info": {
   "codemirror_mode": {
    "name": "ipython",
    "version": 3
   },
   "file_extension": ".py",
   "mimetype": "text/x-python",
   "name": "python",
   "nbconvert_exporter": "python",
   "pygments_lexer": "ipython3",
   "version": "3.6.5"
  }
 },
 "nbformat": 4,
 "nbformat_minor": 2
}
